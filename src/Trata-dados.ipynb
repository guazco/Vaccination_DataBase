{
 "cells": [
  {
   "cell_type": "code",
   "execution_count": 1,
   "id": "governing-monitor",
   "metadata": {},
   "outputs": [],
   "source": [
    "import sqlalchemy\n",
    "from generate_df import *\n",
    "import real_inf\n",
    "from sqlalchemy import create_engine\n",
    "import pymysql\n",
    "import pandas as pd"
   ]
  },
  {
   "cell_type": "code",
   "execution_count": 2,
   "id": "capital-correlation",
   "metadata": {},
   "outputs": [
    {
     "name": "stdout",
     "output_type": "stream",
     "text": [
      "Lendo arquivo de municípios\n"
     ]
    }
   ],
   "source": [
    "#cria município\n",
    "print(\"Lendo arquivo de municípios\")\n",
    "arquivo = 'data/municipios.xlsx'\n",
    "municipio = Municipio(\"Município\")\n",
    "municipio.fill_table(arquivo)\n",
    "municipio.create_df()\n",
    "df_municipio = municipio.out_df()\n",
    "# removendo último digito do código do municipio\n",
    "df_municipio = df_municipio.astype({\"Código\" : str})\n",
    "df_municipio['Código'] = df_municipio['Código'].str[:-3]\n",
    "# ---------------------------------------------------------\n",
    "df_municipio = df_municipio.drop(df_municipio.loc[645:659].index).astype({\"Código\" : int}) # para remover o rodapé como \"notas\" e converter o código para inteiro"
   ]
  },
  {
   "cell_type": "code",
   "execution_count": 3,
   "id": "attended-aquarium",
   "metadata": {},
   "outputs": [
    {
     "name": "stdout",
     "output_type": "stream",
     "text": [
      "Lendo arquivo com outros dados\n"
     ]
    }
   ],
   "source": [
    "#cria o resto daqui pra baixo\n",
    "print(\"Lendo arquivo com outros dados\")\n",
    "arquivo_2 = 'data/partial-vacinas-sp'\n",
    "df_other_info = other_info(arquivo_2)\n",
    "df_other_info = df_other_info.drop(['vacina_fabricante_referencia', 'paciente_endereco_cep'], axis=1) # removendo colunas com muitos vazios\n",
    "df_other_info = df_other_info.loc[df_other_info['vacina_categoria_codigo'].notnull()].astype({\"vacina_categoria_codigo\" : str})\n",
    "df_other_info['vacina_categoria_codigo'] = df_other_info['vacina_categoria_codigo'].str[:-2]\n",
    "df_other_info = df_other_info.astype({\"vacina_categoria_codigo\" : int})\n",
    "df_other_info = df_other_info.loc[df_other_info['paciente_endereco_coIbgeMunicipio'].notnull()].astype({\"paciente_endereco_coIbgeMunicipio\" : int}) # converte o código de cidade para inteiro\n",
    "df_other_info = df_other_info.astype({\"vacina_categoria_codigo\" : int})\n",
    "df_other_info['vacina_dataAplicacao'] = df_other_info['vacina_dataAplicacao'].str[:-14]"
   ]
  },
  {
   "cell_type": "code",
   "execution_count": 4,
   "id": "premier-installation",
   "metadata": {},
   "outputs": [],
   "source": [
    "# GENERATING IDS\n",
    "\n",
    "dose_id = fake_id(\"dose\",10,len(df_other_info[\"vacina_lote\"]))\n",
    "lab_id = fake_id(\"lab\",5,len(df_other_info[\"vacina_fabricante_nome\"].unique().tolist()))\n",
    "lab_vac_id = lab_id"
   ]
  },
  {
   "cell_type": "code",
   "execution_count": null,
   "id": "champion-hospital",
   "metadata": {},
   "outputs": [],
   "source": [
    "# cria pessoa\n",
    "print(\"Gerando DataFrame Pessoa\")\n",
    "pessoa = Pessoa(\"Pessoa\")\n",
    "pessoa.fill_table(df_other_info)\n",
    "pessoa.create_df()\n",
    "df_pessoa = pessoa.out_df()\n",
    "df_pessoa = df_pessoa.drop_duplicates(keep='first', subset=['Id'])\n",
    "#df_pessoa.loc[:,'Data_de_Nascimento'] = pd.to_datetime(df_pessoa['Data_de_Nascimento'], format='%Y-%m-%d')"
   ]
  },
  {
   "cell_type": "code",
   "execution_count": null,
   "id": "adverse-navigation",
   "metadata": {},
   "outputs": [],
   "source": [
    "#cria vacina\n",
    "print(\"Gerando DataFrame Vacina\")\n",
    "vacina = Vacina(\"Vacina\")\n",
    "vacina.fill_table(df_other_info)\n",
    "vacina.create_df()\n",
    "df_vacina = vacina.out_df()\n",
    "df_vacina = df_vacina.drop_duplicates(keep='first', subset=['IdVacina'])"
   ]
  },
  {
   "cell_type": "code",
   "execution_count": 5,
   "id": "stuffed-drunk",
   "metadata": {},
   "outputs": [
    {
     "name": "stdout",
     "output_type": "stream",
     "text": [
      "Gerando DataFrame Laboratorio\n"
     ]
    }
   ],
   "source": [
    "#cria laboratório\n",
    "print(\"Gerando DataFrame Laboratorio\")\n",
    "laboratorio = Laboratorio(\"Laboratorio\")\n",
    "laboratorio.fill_table(df_other_info,lab_id)\n",
    "laboratorio.create_df()\n",
    "df_laboratorio = laboratorio.out_df()"
   ]
  },
  {
   "cell_type": "code",
   "execution_count": null,
   "id": "insured-vertex",
   "metadata": {},
   "outputs": [],
   "source": [
    "#cria dose\n",
    "print(\"Gerando DataFrame Dose\")\n",
    "dose = Dose(\"Dose\")\n",
    "dose.fill_table(df_other_info,dose_id)\n",
    "dose.create_df()\n",
    "df_dose = dose.out_df()\n",
    "df_dose.loc[:, 'IdDose'] = df_dose['IdDose'].str.lower()\n",
    "df_dose = df_dose.drop_duplicates(keep='first', subset=['IdDose'])"
   ]
  },
  {
   "cell_type": "code",
   "execution_count": null,
   "id": "given-venice",
   "metadata": {},
   "outputs": [],
   "source": [
    "#cria Unidade Saúde\n",
    "print(\"Gerando DataFrame Unidade Saude\")\n",
    "unidade_saude = Unidade_Saude(\"Unidade_Saude\")\n",
    "unidade_saude.fill_table(df_other_info)\n",
    "unidade_saude.create_df()\n",
    "df_unidade_saude = unidade_saude.out_df()\n",
    "df_unidade_saude = df_unidade_saude.drop_duplicates(keep='first', subset=['IdUBS'])"
   ]
  },
  {
   "cell_type": "code",
   "execution_count": null,
   "id": "centered-january",
   "metadata": {},
   "outputs": [],
   "source": [
    "#cria aplica em\n",
    "print(\"Gerando DataFrame Aplica_Em\")\n",
    "aplicada_em = Aplicada_Em(\"Aplica_Em\")\n",
    "aplicada_em.fill_table(df_other_info,dose_id)\n",
    "aplicada_em.create_df()\n",
    "df_aplicada_em = aplicada_em.out_df()\n",
    "df_aplicada_em.loc[:, 'IdDose'] = df_aplicada_em['IdDose'].str.lower()\n",
    "df_aplicada_em = df_aplicada_em.drop_duplicates(keep='first', subset=['IdPessoa', 'IdDose'])"
   ]
  },
  {
   "cell_type": "code",
   "execution_count": null,
   "id": "advised-console",
   "metadata": {},
   "outputs": [],
   "source": [
    "#cria habita em\n",
    "print(\"Gerando DataFrame Habita_Em\")\n",
    "habita_em = Habita_Em(\"Habita_Em\")\n",
    "habita_em.fill_table(df_other_info)\n",
    "habita_em.create_df()\n",
    "df_habita_em = habita_em.out_df()\n",
    "df_habita_em = df_habita_em.drop_duplicates(keep='first')"
   ]
  },
  {
   "cell_type": "code",
   "execution_count": null,
   "id": "signal-sullivan",
   "metadata": {},
   "outputs": [],
   "source": [
    "#cria tem\n",
    "print(\"Gerando DataFrame Tem\")\n",
    "tem = Tem(\"Tem\")\n",
    "tem.fill_table(df_other_info,dose_id)\n",
    "tem.create_df()\n",
    "df_tem = tem.out_df()\n",
    "df_tem = df_tem.drop_duplicates(keep='first')"
   ]
  },
  {
   "cell_type": "code",
   "execution_count": null,
   "id": "right-raising",
   "metadata": {},
   "outputs": [],
   "source": [
    "#cria fica no\n",
    "print(\"Gerando DataFrame Fica_No\")\n",
    "fica_no = Fica_No(\"Fica_No\")\n",
    "fica_no.fill_table(df_other_info)\n",
    "fica_no.create_df()\n",
    "df_fica_no = fica_no.out_df()\n",
    "df_fica_no = df_fica_no.drop_duplicates(keep='first')"
   ]
  },
  {
   "cell_type": "code",
   "execution_count": null,
   "id": "fiscal-space",
   "metadata": {},
   "outputs": [],
   "source": [
    "#cria enviada para\n",
    "print(\"Gerando DataFrame Enviada_Para\")\n",
    "enviada_para = Enviada_Para(\"Enviada_Para\")\n",
    "enviada_para.fill_table(df_other_info)\n",
    "enviada_para.create_df()\n",
    "df_enviada_para = enviada_para.out_df()\n",
    "df_enviada_para = df_enviada_para.drop_duplicates(keep='first')"
   ]
  },
  {
   "cell_type": "code",
   "execution_count": null,
   "id": "canadian-artwork",
   "metadata": {},
   "outputs": [],
   "source": [
    "#cria do tipo\n",
    "print(\"Gerando DataFrame Do_Tipo\")\n",
    "do_tipo = Do_Tipo(\"Do_Tipo\")\n",
    "do_tipo.fill_table(df_other_info, dose_id)\n",
    "do_tipo.create_df()\n",
    "df_do_tipo = do_tipo.out_df()\n",
    "df_do_tipo.loc[:, 'IdDose'] = df_do_tipo['IdDose'].str.lower()\n",
    "df_do_tipo = df_do_tipo.drop_duplicates(keep='first')"
   ]
  },
  {
   "cell_type": "code",
   "execution_count": 6,
   "id": "educated-municipality",
   "metadata": {},
   "outputs": [
    {
     "name": "stdout",
     "output_type": "stream",
     "text": [
      "Gerando DataFrame Produzida_Por\n"
     ]
    }
   ],
   "source": [
    "#cria porduzida por\n",
    "print(\"Gerando DataFrame Produzida_Por\")\n",
    "produzida_por = Produzida_Por(\"Produzida_Por\")\n",
    "produzida_por.fill_table(df_other_info, lab_vac_id)\n",
    "produzida_por.create_df()\n",
    "df_produzida_por = produzida_por.out_df()\n",
    "df_produzida_por = df_produzida_por.drop_duplicates(keep='first')"
   ]
  },
  {
   "cell_type": "code",
   "execution_count": 9,
   "id": "educational-kruger",
   "metadata": {},
   "outputs": [],
   "source": [
    "# Credentials to database connection ADD\n",
    "hostname=\"\"\n",
    "dbname=\"\"\n",
    "username=\"\"\n",
    "pwd=\"\"\n",
    "\n",
    "connection = pymysql.connect(\n",
    "    host=hostname,\n",
    "    user=username,\n",
    "    password=pwd,\n",
    "    db=dbname\n",
    "    )\n",
    "cursor = connection.cursor()\n",
    "\n",
    "# Create SQLAlchemy engine to connect to MySQL Database\n",
    "engine = create_engine(\"mysql+pymysql://{user}:{pw}@{host}/{db}\".format(host=hostname, db=dbname, user=username, pw=pwd))"
   ]
  },
  {
   "cell_type": "code",
   "execution_count": null,
   "id": "dirty-medline",
   "metadata": {},
   "outputs": [],
   "source": [
    "# Convert dataframe to sql table\n",
    "print(\"Criando tabela Pessoa\")\n",
    "df_pessoa.to_sql('pessoas', engine, index=False,\n",
    "            dtype={\n",
    "                'Id' : sqlalchemy.types.VARCHAR(length=64),\n",
    "                'CPF' : sqlalchemy.types.BIGINT,\n",
    "                'Nome' : sqlalchemy.types.VARCHAR(length=50),\n",
    "                'Gênero' : sqlalchemy.types.VARCHAR(length=1),\n",
    "                'Idade' : sqlalchemy.types.SMALLINT,\n",
    "                'Data_de_Nascimento' : sqlalchemy.types.DATE,\n",
    "                'Etnia_código' : sqlalchemy.types.SMALLINT,\n",
    "                'Etnia' : sqlalchemy.types.VARCHAR(length=15),\n",
    "                'Ocupação' : sqlalchemy.types.VARCHAR(length=50),\n",
    "                'Grupo' : sqlalchemy.types.VARCHAR(length=50)\n",
    "\n",
    "            })\n",
    "print(\"Tabela Pessoa criada\")"
   ]
  },
  {
   "cell_type": "code",
   "execution_count": null,
   "id": "musical-correlation",
   "metadata": {},
   "outputs": [],
   "source": [
    "print(\"Criando tabela Município\")\n",
    "df_municipio.to_sql('municipios', engine, index=False,\n",
    "                   dtype={\n",
    "                     'Código' : sqlalchemy.types.INT,\n",
    "                     'População' : sqlalchemy.types.INT,\n",
    "                     'Nome' : sqlalchemy.types.VARCHAR(length=30),\n",
    "                   })\n",
    "print(\"Tabela Pessoa criada\")"
   ]
  },
  {
   "cell_type": "code",
   "execution_count": null,
   "id": "complicated-vertical",
   "metadata": {},
   "outputs": [],
   "source": [
    "print(\"Criando tabela Vacinas\")\n",
    "df_vacina.to_sql('vacinas', engine, index=False,\n",
    "                dtype={\n",
    "                    'IdVacina' : sqlalchemy.types.SMALLINT,\n",
    "                    'Nome' : sqlalchemy.types.VARCHAR(length=64)\n",
    "                })\n",
    "print(\"Tabela Vacinas criada\")"
   ]
  },
  {
   "cell_type": "code",
   "execution_count": null,
   "id": "desperate-sapphire",
   "metadata": {},
   "outputs": [],
   "source": [
    "print(\"Criando tabela Dose\")\n",
    "df_dose.to_sql('doses', engine, index=False,\n",
    "              dtype={\n",
    "                  'IdDose' : sqlalchemy.types.VARCHAR(length=15),\n",
    "                  'Data de Validade' : sqlalchemy.types.DATE,\n",
    "                  'Número' : sqlalchemy.types.VARCHAR(length=11)\n",
    "              })\n",
    "print(\"Tabela Doses criada\")"
   ]
  },
  {
   "cell_type": "code",
   "execution_count": null,
   "id": "passing-berlin",
   "metadata": {},
   "outputs": [],
   "source": [
    "print(\"Criando tabela Unidade Saude\")\n",
    "df_unidade_saude.to_sql('Unidade Saude', engine, index=False,\n",
    "                       dtype={\n",
    "                           'IdUBS' : sqlalchemy.types.INT,\n",
    "                           'Nome' : sqlalchemy.types.VARCHAR(length=60),\n",
    "                           'Endereco' : sqlalchemy.types.VARCHAR(length=100)\n",
    "                       })\n",
    "print(\"Tabela Unidade Saude criada\")"
   ]
  },
  {
   "cell_type": "code",
   "execution_count": 11,
   "id": "processed-quest",
   "metadata": {},
   "outputs": [
    {
     "name": "stdout",
     "output_type": "stream",
     "text": [
      "Criando tabela Laboratorio\n",
      "Tabela Laboratorio criada\n"
     ]
    }
   ],
   "source": [
    "print(\"Criando tabela Laboratorio\")\n",
    "df_laboratorio.to_sql('laboratorio', engine, index=False,\n",
    "                     dtype={\n",
    "                         'IdLaboratorio' : sqlalchemy.types.VARCHAR(length=10),\n",
    "                         'Pais' : sqlalchemy.types.VARCHAR(length=30),\n",
    "                         'Nome' : sqlalchemy.types.VARCHAR(length=32)\n",
    "                     })\n",
    "print(\"Tabela Laboratorio criada\")"
   ]
  },
  {
   "cell_type": "code",
   "execution_count": null,
   "id": "streaming-figure",
   "metadata": {},
   "outputs": [],
   "source": [
    "print(\"Criando tabela Aplicada_Em\")\n",
    "df_aplicada_em.to_sql('Aplicada_em', engine, index=False,\n",
    "                     dtype={\n",
    "                         'IdPessoa' : sqlalchemy.types.VARCHAR(length=64),\n",
    "                         'IdDose' : sqlalchemy.types.VARCHAR(length=15),\n",
    "                         'Data' : sqlalchemy.types.DATE\n",
    "                     })\n",
    "print(\"Tabela Aplicada_Em criada\")"
   ]
  },
  {
   "cell_type": "code",
   "execution_count": null,
   "id": "upper-stack",
   "metadata": {},
   "outputs": [],
   "source": [
    "print(\"Criando tabela Habita_Em\")\n",
    "df_habita_em.to_sql('Habita_Em', engine, index=False,\n",
    "                   dtype={\n",
    "                       'IdPessoa' : sqlalchemy.types.VARCHAR(length=64),\n",
    "                       'IdMunicipio' : sqlalchemy.types.INT\n",
    "                   })\n",
    "print(\"Tabela Habita_Em criada\")"
   ]
  },
  {
   "cell_type": "code",
   "execution_count": null,
   "id": "green-chile",
   "metadata": {},
   "outputs": [],
   "source": [
    "print(\"Criando tabela Tem\")\n",
    "df_tem.to_sql('Tem', engine, index=False,\n",
    "             dtype={\n",
    "                 'IdDose' : sqlalchemy.types.VARCHAR(length=15),\n",
    "                 'IdUBS' : sqlalchemy.types.INT\n",
    "             })\n",
    "print(\"Tabela Tem criada\")"
   ]
  },
  {
   "cell_type": "code",
   "execution_count": null,
   "id": "absolute-marks",
   "metadata": {},
   "outputs": [],
   "source": [
    "print(\"Criando tabela Fica_No\")\n",
    "df_fica_no.to_sql('Fica_No', engine, index=False,\n",
    "                 dtype={\n",
    "                     'IdUBS' : sqlalchemy.types.INT,\n",
    "                     'IdMunicipio' : sqlalchemy.types.INT\n",
    "                 })\n",
    "print(\"Tabela Fica_No criada\")"
   ]
  },
  {
   "cell_type": "code",
   "execution_count": null,
   "id": "three-crash",
   "metadata": {},
   "outputs": [],
   "source": [
    "print(\"Criando tabela Enviada_Para\")\n",
    "df_enviada_para.to_sql('Enviada_Para', engine, index=False,\n",
    "                      dtype={\n",
    "                          'IdVacina' : sqlalchemy.types.SMALLINT,\n",
    "                          'IdUBS' : sqlalchemy.types.INT\n",
    "                      })\n",
    "print(\"Tabela Enviada_Para criada\")"
   ]
  },
  {
   "cell_type": "code",
   "execution_count": null,
   "id": "protected-slovakia",
   "metadata": {},
   "outputs": [],
   "source": [
    "print(\"Criando tabela Do_Tipo\")\n",
    "df_do_tipo.to_sql('Do_Tipo', engine, index=False,\n",
    "                 dtype={\n",
    "                     'IdDose' : sqlalchemy.types.VARCHAR(length=15),\n",
    "                     'IdVacina' : sqlalchemy.types.SMALLINT\n",
    "                 })\n",
    "print(\"Tabela Do_Tipo criada\")"
   ]
  },
  {
   "cell_type": "code",
   "execution_count": 12,
   "id": "worldwide-symposium",
   "metadata": {},
   "outputs": [
    {
     "name": "stdout",
     "output_type": "stream",
     "text": [
      "Criando tabela Produzida_Por\n",
      "Produzida_Por criada\n"
     ]
    },
    {
     "name": "stderr",
     "output_type": "stream",
     "text": [
      "c:\\users\\enzoc\\appdata\\local\\programs\\python\\python39\\lib\\site-packages\\pandas\\io\\sql.py:1422: UserWarning: The provided table name 'Produzida_Por' is not found exactly as such in the database after writing the table, possibly due to case sensitivity issues. Consider using lower case table names.\n",
      "  warnings.warn(msg, UserWarning)\n"
     ]
    }
   ],
   "source": [
    "print(\"Criando tabela Produzida_Por\")\n",
    "df_produzida_por.to_sql('Produzida_Por', engine, index=False,\n",
    "                       dtype={\n",
    "                           'IdVacina' : sqlalchemy.types.SMALLINT,\n",
    "                           'IdLaboratorio' : sqlalchemy.types.VARCHAR(length=10)\n",
    "                       })\n",
    "print(\"Produzida_Por criada\")"
   ]
  },
  {
   "cell_type": "code",
   "execution_count": null,
   "id": "light-zoning",
   "metadata": {},
   "outputs": [],
   "source": [
    "# Definindo primary key\n",
    "print('Criando PK de doses')\n",
    "cursor.execute(\"ALTER TABLE doses ADD PRIMARY KEY (IdDose)\")\n",
    "print('PK de doses criada.\\n')\n",
    "\n",
    "print('Criando PK de laboratorio')\n",
    "cursor.execute(\"ALTER TABLE laboratorio ADD PRIMARY KEY (IdLaboratorio)\")\n",
    "print('PK de laboratorio criada.\\n')\n",
    "\n",
    "print('Criando PK de municipios')\n",
    "cursor.execute(\"ALTER TABLE municipios ADD PRIMARY KEY (Código)\")\n",
    "print('PK de municipios criada.\\n')\n",
    "\n",
    "print('Crianda PK de pessoas')\n",
    "cursor.execute(\"ALTER TABLE pessoas ADD PRIMARY KEY (Id)\")\n",
    "print('PK de pessoas criada.\\n')\n",
    "\n",
    "print('Crianda PK de unidade saude')\n",
    "cursor.execute('ALTER TABLE `unidade saude` ADD PRIMARY KEY (IdUBS)')\n",
    "print('PK de unidade saude criada.\\n')\n",
    "\n",
    "print('criando PK de vacinas')\n",
    "cursor.execute('ALTER TABLE `vacinas` ADD PRIMARY KEY (IdVacina)')\n",
    "print('PK de vacinas criada.\\n')"
   ]
  },
  {
   "cell_type": "code",
   "execution_count": 14,
   "id": "premier-watson",
   "metadata": {},
   "outputs": [
    {
     "data": {
      "text/plain": [
       "0"
      ]
     },
     "execution_count": 14,
     "metadata": {},
     "output_type": "execute_result"
    }
   ],
   "source": [
    "# Defigindo foreign key\n",
    "cursor.execute('SET GLOBAL FOREIGN_KEY_CHECKS=0')"
   ]
  },
  {
   "cell_type": "code",
   "execution_count": null,
   "id": "judicial-functionality",
   "metadata": {},
   "outputs": [],
   "source": [
    "print('Criando FK s de enviada_para')\n",
    "cursor.execute('ALTER TABLE enviada_para ADD FOREIGN KEY (IdVacina) REFERENCES vacinas(IdVacina)')\n",
    "cursor.execute('ALTER TABLE enviada_para ADD FOREIGN KEY (IdUBS) REFERENCES `unidade saude`(IdUBS)')\n",
    "print('FK s de enviada_para criadas.\\n')"
   ]
  },
  {
   "cell_type": "code",
   "execution_count": null,
   "id": "serious-latino",
   "metadata": {},
   "outputs": [],
   "source": [
    "print('Criando FK s de fica_no')\n",
    "cursor.execute('ALTER TABLE fica_no ADD FOREIGN KEY (IdUBS) REFERENCES `unidade saude`(IdUBS)')\n",
    "cursor.execute('ALTER TABLE fica_no ADD FOREIGN KEY (IdMunicipio) REFERENCES municipios(Código)')\n",
    "print('FK s de fica_no criadas.\\n')"
   ]
  },
  {
   "cell_type": "code",
   "execution_count": null,
   "id": "controlling-frederick",
   "metadata": {},
   "outputs": [],
   "source": [
    "print('Criando FK s de habita_em')\n",
    "cursor.execute('ALTER TABLE habita_em ADD FOREIGN KEY (IdPessoa) REFERENCES pessoas(Id)')\n",
    "cursor.execute('ALTER TABLE habita_em ADD FOREIGN KEY (IdMunicipio) REFERENCES municipios(Código)')\n",
    "print('FK s de habita_em criadas.\\n')"
   ]
  },
  {
   "cell_type": "code",
   "execution_count": 15,
   "id": "damaged-recycling",
   "metadata": {},
   "outputs": [
    {
     "name": "stdout",
     "output_type": "stream",
     "text": [
      "Criando FK s de produzido_por\n",
      "FK s de produzido_por criadas.\n",
      "\n"
     ]
    }
   ],
   "source": [
    "print('Criando FK s de produzido_por')\n",
    "cursor.execute('ALTER TABLE produzida_por ADD FOREIGN KEY (IdVacina) REFERENCES vacinas(IdVacina)')\n",
    "cursor.execute('ALTER TABLE produzida_por ADD FOREIGN KEY (IdLaboratorio) REFERENCES laboratorio(IdLaboratorio)')\n",
    "print('FK s de produzido_por criadas.\\n')"
   ]
  },
  {
   "cell_type": "code",
   "execution_count": null,
   "id": "spread-gossip",
   "metadata": {},
   "outputs": [],
   "source": [
    "print('Criando FK s de tem')\n",
    "cursor.execute('ALTER TABLE tem ADD FOREIGN KEY (IdDose) REFERENCES doses(IdDose)')\n",
    "cursor.execute('ALTER TABLE tem ADD FOREIGN KEY (IdUBS) REFERENCES `unidade saude`(IdUBS)')\n",
    "print('FK s de tem criadas.\\n')"
   ]
  },
  {
   "cell_type": "code",
   "execution_count": null,
   "id": "offshore-ending",
   "metadata": {},
   "outputs": [],
   "source": [
    "print('Criando FK s de do_tipo')\n",
    "cursor.execute('ALTER TABLE do_tipo ADD FOREIGN KEY (IdDose) REFERENCES doses(IdDose)')\n",
    "cursor.execute('ALTER TABLE do_tipo ADD FOREIGN KEY (IdVacina) REFERENCES vacinas(IdVacina)')\n",
    "print('FK s de do_tipo criadas.\\n')"
   ]
  },
  {
   "cell_type": "code",
   "execution_count": null,
   "id": "prostate-computer",
   "metadata": {},
   "outputs": [],
   "source": [
    "print('Criando FK s de aplicada_em')\n",
    "cursor.execute('ALTER TABLE aplicada_em ADD FOREIGN KEY (IdPessoa) REFERENCES pessoas(Id)')\n",
    "cursor.execute('ALTER TABLE aplicada_em ADD FOREIGN KEY (IdDose) REFERENCES doses(IdDose)')\n",
    "print('FK s de aplicada_em criadas.\\n\\n')"
   ]
  },
  {
   "cell_type": "code",
   "execution_count": 17,
   "id": "domestic-electronics",
   "metadata": {},
   "outputs": [
    {
     "name": "stdout",
     "output_type": "stream",
     "text": [
      "\n",
      "Fim da execução.\n"
     ]
    }
   ],
   "source": [
    "cursor.execute('SET GLOBAL FOREIGN_KEY_CHECKS=1')\n",
    "print('\\nFim da execução.')"
   ]
  }
 ],
 "metadata": {
  "kernelspec": {
   "display_name": "Python 3",
   "language": "python",
   "name": "python3"
  },
  "language_info": {
   "codemirror_mode": {
    "name": "ipython",
    "version": 3
   },
   "file_extension": ".py",
   "mimetype": "text/x-python",
   "name": "python",
   "nbconvert_exporter": "python",
   "pygments_lexer": "ipython3",
   "version": "3.9.2"
  }
 },
 "nbformat": 4,
 "nbformat_minor": 5
}